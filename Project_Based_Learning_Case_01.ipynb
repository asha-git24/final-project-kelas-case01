{
 "cells": [
  {
   "cell_type": "code",
   "execution_count": 1,
   "id": "309dabb9-e570-4d6f-b227-5f2fdd40736b",
   "metadata": {
    "executionInfo": {
     "elapsed": 584,
     "status": "ok",
     "timestamp": 1671520030242,
     "user": {
      "displayName": "Stephanie Fani",
      "userId": "03013489333346707504"
     },
     "user_tz": -420
    },
    "id": "309dabb9-e570-4d6f-b227-5f2fdd40736b"
   },
   "outputs": [],
   "source": [
    "#Libraries\n",
    "import pandas as pd\n",
    "import numpy as np\n",
    "import scipy.stats as stats"
   ]
  },
  {
   "cell_type": "code",
   "execution_count": 2,
   "id": "56587e98-c378-44b9-93f0-d796b76124ff",
   "metadata": {
    "colab": {
     "base_uri": "https://localhost:8080/",
     "height": 833
    },
    "executionInfo": {
     "elapsed": 4,
     "status": "ok",
     "timestamp": 1671520030243,
     "user": {
      "displayName": "Stephanie Fani",
      "userId": "03013489333346707504"
     },
     "user_tz": -420
    },
    "id": "56587e98-c378-44b9-93f0-d796b76124ff",
    "outputId": "34e681a7-bda2-4ea7-c895-b08208412753"
   },
   "outputs": [
    {
     "data": {
      "text/plain": [
       "array([100, 150,  50, 100, 130, 120, 100,  85,  70, 150, 150, 120,  50,\n",
       "       100, 100, 140,  90, 150,  50,  90, 120, 100, 110,  75,  65])"
      ]
     },
     "execution_count": 2,
     "metadata": {},
     "output_type": "execute_result"
    }
   ],
   "source": [
    "#DataFrame\n",
    "TransactionAmount = np.array([100, 150, 50, 100, 130, 120, 100, 85, 70, 150, 150, 120, 50, 100, 100, 140, 90, 150, 50, 90, 120, 100, 110, 75, 65])\n",
    "TransactionAmount"
   ]
  },
  {
   "cell_type": "code",
   "execution_count": 3,
   "id": "KOFYWfvUtfMx",
   "metadata": {
    "colab": {
     "base_uri": "https://localhost:8080/"
    },
    "executionInfo": {
     "elapsed": 6,
     "status": "ok",
     "timestamp": 1671520030708,
     "user": {
      "displayName": "Stephanie Fani",
      "userId": "03013489333346707504"
     },
     "user_tz": -420
    },
    "id": "KOFYWfvUtfMx",
    "outputId": "4d59d08d-7da4-4d66-c8e2-35761e1ac331"
   },
   "outputs": [
    {
     "name": "stdout",
     "output_type": "stream",
     "text": [
      "102\n",
      "100\n",
      "100\n"
     ]
    }
   ],
   "source": [
    "# Measures of Central Tendency\n",
    "import statistics\n",
    "print(statistics.mean(TransactionAmount))\n",
    "print(statistics.median(TransactionAmount))\n",
    "print(statistics.mode(TransactionAmount))"
   ]
  },
  {
   "cell_type": "code",
   "execution_count": 4,
   "id": "ceRxEGdTt966",
   "metadata": {
    "executionInfo": {
     "elapsed": 1,
     "status": "ok",
     "timestamp": 1671520033894,
     "user": {
      "displayName": "Stephanie Fani",
      "userId": "03013489333346707504"
     },
     "user_tz": -420
    },
    "id": "ceRxEGdTt966"
   },
   "outputs": [],
   "source": [
    "# Dari data sampel yang dimiliki, Measures of Central Tendency adalah sebagai berikut:\n",
    "# Mean = 102.6\n",
    "# Median = 100\n",
    "# Modus = 100"
   ]
  },
  {
   "cell_type": "code",
   "execution_count": 5,
   "id": "0a6d26b9-26f8-41a0-b83c-b2f092c2e6d7",
   "metadata": {},
   "outputs": [
    {
     "name": "stdout",
     "output_type": "stream",
     "text": [
      "972.2399999999999\n",
      "31.18076330047101\n",
      "150\n",
      "50\n",
      "100\n",
      "85.0\n",
      "100.0\n",
      "120.0\n"
     ]
    }
   ],
   "source": [
    "#Variability\n",
    "print(np.var(TransactionAmount))\n",
    "print(np.std(TransactionAmount))\n",
    "print(np.max(TransactionAmount))\n",
    "print(np.min(TransactionAmount))\n",
    "print(np.max(TransactionAmount) - np.min(TransactionAmount))\n",
    "print(np.quantile(TransactionAmount, 0.25))\n",
    "print(np.quantile(TransactionAmount, 0.5))\n",
    "print(np.quantile(TransactionAmount, 0.75))"
   ]
  },
  {
   "cell_type": "code",
   "execution_count": 6,
   "id": "v_dl9Fneuabm",
   "metadata": {
    "executionInfo": {
     "elapsed": 854,
     "status": "ok",
     "timestamp": 1671520098187,
     "user": {
      "displayName": "Stephanie Fani",
      "userId": "03013489333346707504"
     },
     "user_tz": -420
    },
    "id": "v_dl9Fneuabm"
   },
   "outputs": [],
   "source": [
    "# Dari data sampel yang dimiliki, Measures of Variability adalah sebagai berikut:\n",
    "# Variansi = 972.2399999999999\n",
    "# Standar Deviasi = 31.18076330047101\n",
    "# Max = 150\n",
    "# Min = 50\n",
    "# Range = 100\n",
    "# Kuartil 1 = 85.0\n",
    "# Kuartil 2 = 100.0\n",
    "# Kuartil 3 = 120.0"
   ]
  },
  {
   "cell_type": "code",
   "execution_count": 7,
   "id": "3786f132-4bd1-4c72-a5d9-1044aa088818",
   "metadata": {
    "executionInfo": {
     "elapsed": 1,
     "status": "ok",
     "timestamp": 1671520106679,
     "user": {
      "displayName": "Stephanie Fani",
      "userId": "03013489333346707504"
     },
     "user_tz": -420
    },
    "id": "3786f132-4bd1-4c72-a5d9-1044aa088818"
   },
   "outputs": [],
   "source": [
    "# H0: Penjualan rata-rata per transaksi = 100\n",
    "# H1: Penjualan rata-rata per transaksi > 100"
   ]
  },
  {
   "cell_type": "code",
   "execution_count": 8,
   "id": "b8103158-ecda-478d-9926-7ec0dcfc5c12",
   "metadata": {
    "executionInfo": {
     "elapsed": 624,
     "status": "ok",
     "timestamp": 1671520113997,
     "user": {
      "displayName": "Stephanie Fani",
      "userId": "03013489333346707504"
     },
     "user_tz": -420
    },
    "id": "b8103158-ecda-478d-9926-7ec0dcfc5c12"
   },
   "outputs": [],
   "source": [
    "# alpha = 0.05"
   ]
  },
  {
   "cell_type": "code",
   "execution_count": 9,
   "id": "686e0fc4-84d5-4712-ae90-b47eb3ea44ac",
   "metadata": {
    "colab": {
     "base_uri": "https://localhost:8080/"
    },
    "executionInfo": {
     "elapsed": 2,
     "status": "ok",
     "timestamp": 1671520114452,
     "user": {
      "displayName": "Stephanie Fani",
      "userId": "03013489333346707504"
     },
     "user_tz": -420
    },
    "id": "686e0fc4-84d5-4712-ae90-b47eb3ea44ac",
    "outputId": "42c97137-4bef-4516-8b06-654df3bbaa93"
   },
   "outputs": [
    {
     "data": {
      "text/plain": [
       "TtestResult(statistic=0.4085001556802841, pvalue=0.6865284813438117, df=24)"
      ]
     },
     "execution_count": 9,
     "metadata": {},
     "output_type": "execute_result"
    }
   ],
   "source": [
    "#Calculate t statistics and P-value\n",
    "#Perform one sample t-test\n",
    "stats.ttest_1samp(a=TransactionAmount, popmean=100)"
   ]
  },
  {
   "cell_type": "code",
   "execution_count": 10,
   "id": "592f6cf7",
   "metadata": {},
   "outputs": [],
   "source": [
    "#statistic=0.4085001556802841 , pvalue=0.6865284813438117"
   ]
  },
  {
   "cell_type": "code",
   "execution_count": 11,
   "id": "35c7de5f-3992-4872-98ea-9e9269b1557b",
   "metadata": {
    "executionInfo": {
     "elapsed": 435,
     "status": "ok",
     "timestamp": 1671520140175,
     "user": {
      "displayName": "Stephanie Fani",
      "userId": "03013489333346707504"
     },
     "user_tz": -420
    },
    "id": "35c7de5f-3992-4872-98ea-9e9269b1557b"
   },
   "outputs": [],
   "source": [
    "#Conclude with alpha and p-value\n",
    "# Karena P-value (0.69) lebih besar dari alpha (0.05), maka H0 gagal ditolak.\n",
    "# Kesimpulan: Training pada pekerja sales tidak efektif dalam meningkatkan penjualan rata-rata dari $100 per transaksi. Rata-rata penjualan per transaksi masih 100."
   ]
  },
  {
   "cell_type": "code",
   "execution_count": 12,
   "id": "9580db55-a594-4c1b-a5e6-3787906505c2",
   "metadata": {
    "executionInfo": {
     "elapsed": 1,
     "status": "ok",
     "timestamp": 1671520143687,
     "user": {
      "displayName": "Stephanie Fani",
      "userId": "03013489333346707504"
     },
     "user_tz": -420
    },
    "id": "9580db55-a594-4c1b-a5e6-3787906505c2"
   },
   "outputs": [],
   "source": [
    "#Conclude with t statistics and critical region\n",
    "#Find the critical region"
   ]
  },
  {
   "cell_type": "code",
   "execution_count": 13,
   "id": "1429f038",
   "metadata": {},
   "outputs": [
    {
     "data": {
      "text/plain": [
       "1.7108820799094275"
      ]
     },
     "execution_count": 13,
     "metadata": {},
     "output_type": "execute_result"
    }
   ],
   "source": [
    "# H1: Lebih besar (bagian kanan)\n",
    "stats.t.ppf(1-0.05, 24)"
   ]
  },
  {
   "cell_type": "code",
   "execution_count": 14,
   "id": "d6595428-5211-4cf7-bb61-ca8e201e6ef6",
   "metadata": {
    "executionInfo": {
     "elapsed": 1,
     "status": "ok",
     "timestamp": 1671520153697,
     "user": {
      "displayName": "Stephanie Fani",
      "userId": "03013489333346707504"
     },
     "user_tz": -420
    },
    "id": "d6595428-5211-4cf7-bb61-ca8e201e6ef6"
   },
   "outputs": [],
   "source": [
    "#Critical region result\n",
    "# Critical region: t > 1.71\n",
    "# Karena t statistics (0.4085001556802841) tidak di dalam critical region, maka H0 gagal ditolak\n",
    "# Kesimpulan: Training pada pekerja sales tidak efektif dalam meningkatkan penjualan rata-rata dari $100 per transaksi. Rata-rata penjualan per transaksi masih 100."
   ]
  },
  {
   "cell_type": "code",
   "execution_count": null,
   "id": "2bcbaada-0970-4262-b512-acf9709f16d9",
   "metadata": {},
   "outputs": [],
   "source": []
  }
 ],
 "metadata": {
  "colab": {
   "provenance": []
  },
  "kernelspec": {
   "display_name": "Python 3 (ipykernel)",
   "language": "python",
   "name": "python3"
  },
  "language_info": {
   "codemirror_mode": {
    "name": "ipython",
    "version": 3
   },
   "file_extension": ".py",
   "mimetype": "text/x-python",
   "name": "python",
   "nbconvert_exporter": "python",
   "pygments_lexer": "ipython3",
   "version": "3.11.10"
  },
  "vscode": {
   "interpreter": {
    "hash": "5e70fd34aa919644e731ce0c71c5ec6c66d3b48eb7909f9a04da7ee7076ef028"
   }
  }
 },
 "nbformat": 4,
 "nbformat_minor": 5
}
